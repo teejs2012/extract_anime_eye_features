{
 "cells": [
  {
   "cell_type": "code",
   "execution_count": 1,
   "metadata": {},
   "outputs": [],
   "source": [
    "import torch\n",
    "import numpy as np\n",
    "from lib.networks import anime_full_encoder, anime_eye_encoder\n",
    "from lib.data import Data\n",
    "from PIL import Image\n",
    "from torchvision import transforms\n",
    "import torch.nn as nn\n",
    "import torch.optim as optim\n",
    "import os"
   ]
  },
  {
   "cell_type": "code",
   "execution_count": 2,
   "metadata": {},
   "outputs": [],
   "source": [
    "model_full = anime_full_encoder(3)\n",
    "model_leye = anime_eye_encoder(3)\n",
    "model_reye = anime_eye_encoder(3)\n",
    "all_models = {\n",
    "    'model_full.pth':model_full,\n",
    "    'model_leye.pth':model_leye,\n",
    "    'model_reye.pth':model_reye\n",
    "}"
   ]
  },
  {
   "cell_type": "code",
   "execution_count": 3,
   "metadata": {},
   "outputs": [],
   "source": [
    "def load_models(models, folder):\n",
    "    for k, v in models.items():\n",
    "        v.load_state_dict(torch.load(os.path.join(folder, k)))\n",
    "load_models(all_models,'model')"
   ]
  },
  {
   "cell_type": "code",
   "execution_count": 5,
   "metadata": {},
   "outputs": [],
   "source": [
    "full_transform = transforms.Compose([\n",
    "        transforms.Resize((256, 256)),\n",
    "        transforms.ToTensor(),\n",
    "        transforms.Normalize(mean=(0.5, 0.5, 0.5), std=(0.5, 0.5, 0.5))\n",
    "])\n",
    "\n",
    "eye_transform = transforms.Compose([\n",
    "        transforms.Resize((32, 32)),\n",
    "        transforms.ToTensor(),\n",
    "        transforms.Normalize(mean=(0.5, 0.5, 0.5), std=(0.5, 0.5, 0.5))\n",
    "])\n",
    "\n",
    "full_path = \"C:/Users/teejs/Documents/Dataset/Anime Data/anime_face_large_dif_pos\"\n",
    "leye_path = \"validate_sets\"\n",
    "reye_path = \"right_eye\"\n",
    "train_loader_full = Data(full_path, full_transform)\n",
    "train_loader_leye = Data(leye_path, eye_transform)\n",
    "train_loader_reye = Data(reye_path, eye_transform)"
   ]
  },
  {
   "cell_type": "code",
   "execution_count": 13,
   "metadata": {},
   "outputs": [
    {
     "name": "stdout",
     "output_type": "stream",
     "text": [
      "tensor(0.0028, grad_fn=<MeanBackward1>)\n",
      "tensor(0.0054, grad_fn=<MeanBackward1>)\n"
     ]
    }
   ],
   "source": [
    "filename = '2142-2-0.png'\n",
    "filename2 = '480985-5-0.png'\n",
    "filename3 = '533265-6-0.png'\n",
    "full_img_path = 'C:/Users/teejs/Documents/Dataset/Anime Data/anime_face_large_dif_pos/'+filename\n",
    "leye_img_path = 'validate_sets/'+filename\n",
    "reye_img_path = 'right_eye/'+filename\n",
    "\n",
    "full_img = train_loader_full.get(filename)\n",
    "leye_img = train_loader_leye.get(filename3)\n",
    "reye_img = train_loader_reye.get(filename3)\n",
    "\n",
    "_, full_result_l, full_result_r = model_full(full_img)\n",
    "_, lresult = model_leye(leye_img)\n",
    "_, rresult = model_reye(reye_img)\n",
    "\n",
    "print(torch.mean(full_result_l-lresult))\n",
    "print(torch.mean(full_result_r-rresult))"
   ]
  },
  {
   "cell_type": "code",
   "execution_count": null,
   "metadata": {},
   "outputs": [],
   "source": []
  }
 ],
 "metadata": {
  "kernelspec": {
   "display_name": "Python 3",
   "language": "python",
   "name": "python3"
  },
  "language_info": {
   "codemirror_mode": {
    "name": "ipython",
    "version": 3
   },
   "file_extension": ".py",
   "mimetype": "text/x-python",
   "name": "python",
   "nbconvert_exporter": "python",
   "pygments_lexer": "ipython3",
   "version": "3.5.5"
  }
 },
 "nbformat": 4,
 "nbformat_minor": 2
}
