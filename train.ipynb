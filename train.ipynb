{
 "cells": [
  {
   "cell_type": "code",
   "execution_count": 1,
   "metadata": {},
   "outputs": [],
   "source": [
    "import torch\n",
    "import numpy as np\n",
    "from lib.networks import anime_full_encoder, anime_eye_encoder\n",
    "from lib.data import Data\n",
    "from lib.train_history import train_history \n",
    "from PIL import Image\n",
    "from torchvision import transforms\n",
    "import torch.nn as nn\n",
    "import torch.optim as optim\n",
    "import os"
   ]
  },
  {
   "cell_type": "code",
   "execution_count": 2,
   "metadata": {},
   "outputs": [
    {
     "data": {
      "text/plain": [
       "device(type='cuda', index=1)"
      ]
     },
     "execution_count": 2,
     "metadata": {},
     "output_type": "execute_result"
    }
   ],
   "source": [
    "device = torch.device('cuda:1' if torch.cuda.is_available() else 'cpu')\n",
    "if torch.backends.cudnn.enabled:\n",
    "    torch.backends.cudnn.benchmark = True\n",
    "device"
   ]
  },
  {
   "cell_type": "code",
   "execution_count": 3,
   "metadata": {},
   "outputs": [],
   "source": [
    "lr_full = 0.0001\n",
    "lr_eye = 0.0002\n",
    "beta1=0.5\n",
    "beta2=0.999"
   ]
  },
  {
   "cell_type": "code",
   "execution_count": 4,
   "metadata": {},
   "outputs": [],
   "source": [
    "model_folder = 'model'"
   ]
  },
  {
   "cell_type": "code",
   "execution_count": 5,
   "metadata": {},
   "outputs": [],
   "source": [
    "full_transform = transforms.Compose([\n",
    "        transforms.Resize((256, 256)),\n",
    "        transforms.ToTensor(),\n",
    "        transforms.Normalize(mean=(0.5, 0.5, 0.5), std=(0.5, 0.5, 0.5))\n",
    "])\n",
    "\n",
    "eye_transform = transforms.Compose([\n",
    "        transforms.Resize((32, 32)),\n",
    "        transforms.ToTensor(),\n",
    "        transforms.Normalize(mean=(0.5, 0.5, 0.5), std=(0.5, 0.5, 0.5))\n",
    "])\n",
    "\n",
    "full_path = \"../Datasets/anime/anime_face_large_dif_pos\"\n",
    "leye_path = \"left_eye\"\n",
    "reye_path = \"right_eye\"\n",
    "train_loader_leye = Data(leye_path, eye_transform)\n",
    "train_loader_reye = Data(reye_path, eye_transform)\n",
    "train_loader_full = Data(full_path, full_transform, shuffle=True)\n"
   ]
  },
  {
   "cell_type": "code",
   "execution_count": 6,
   "metadata": {},
   "outputs": [],
   "source": [
    "# leye_image = Image.open(\"left_eye/42001-1-0.png\")\n",
    "\n",
    "# leye_image = transform(leye_image)\n",
    "# leye_image = leye_image.unsqueeze(0)\n",
    "# leye_image.size()"
   ]
  },
  {
   "cell_type": "code",
   "execution_count": 7,
   "metadata": {},
   "outputs": [],
   "source": [
    "L1_loss = nn.L1Loss()"
   ]
  },
  {
   "cell_type": "code",
   "execution_count": 8,
   "metadata": {},
   "outputs": [],
   "source": [
    "model_full = anime_full_encoder(3).to(device)\n",
    "model_leye = anime_eye_encoder(3).to(device)\n",
    "model_reye = anime_eye_encoder(3).to(device)\n",
    "all_models = {\n",
    "    'model_full.pth':model_full,\n",
    "    'model_leye.pth':model_leye,\n",
    "    'model_reye.pth':model_reye\n",
    "}"
   ]
  },
  {
   "cell_type": "code",
   "execution_count": 9,
   "metadata": {},
   "outputs": [],
   "source": [
    "optimizer_full = optim.Adam(model_full.parameters(), lr=lr_full, betas=(beta1, beta2))\n",
    "optimizer_leye = optim.Adam(model_leye.parameters(), lr=lr_eye, betas=(beta1, beta2))\n",
    "optimizer_reye = optim.Adam(model_reye.parameters(), lr=lr_eye, betas=(beta1, beta2))"
   ]
  },
  {
   "cell_type": "code",
   "execution_count": 11,
   "metadata": {},
   "outputs": [],
   "source": [
    "train_hist = train_history(['full_img_recon_loss',\n",
    "                          'leye_img_recon_loss',\n",
    "                          'reye_img_recon_loss',\n",
    "                          'leye_latent_loss',\n",
    "                          'reye_latent_loss'                                          \n",
    "                          ])"
   ]
  },
  {
   "cell_type": "code",
   "execution_count": 12,
   "metadata": {},
   "outputs": [],
   "source": [
    "def save_models(models, folder):\n",
    "    for k, v in models.items():\n",
    "        torch.save(v.state_dict(), os.path.join(folder, k))"
   ]
  },
  {
   "cell_type": "code",
   "execution_count": 13,
   "metadata": {},
   "outputs": [],
   "source": [
    "def load_models(models, folder):\n",
    "    for k, v in models.items():\n",
    "        v.load_state_dict(torch.load(os.path.join(folder, k)))"
   ]
  },
  {
   "cell_type": "code",
   "execution_count": 14,
   "metadata": {},
   "outputs": [],
   "source": [
    "count=0"
   ]
  },
  {
   "cell_type": "code",
   "execution_count": null,
   "metadata": {},
   "outputs": [],
   "source": [
    "# epoch_count=1\n",
    "# niter = 5\n",
    "# niter_decay = 100\n",
    "# def lambda_rule(epoch):\n",
    "#     lr_l = 1.0 - max(0, epoch + epoch_count - niter) / float(niter_decay + 1)\n",
    "#     return lr_l\n",
    "# schedulers = [lr_scheduler.LambdaLR(optimizer, lr_lambda=lambda_rule) for optimizer in [optimizer_full,optimizer_leye,optimizer_reye]]"
   ]
  },
  {
   "cell_type": "code",
   "execution_count": null,
   "metadata": {},
   "outputs": [
    {
     "name": "stdout",
     "output_type": "stream",
     "text": [
      "{'full_img_recon_loss': tensor(0.6785), 'leye_img_recon_loss': tensor(nan), 'leye_latent_loss': tensor(0.7456), 'reye_latent_loss': tensor(0.6819)}\n",
      "{'full_img_recon_loss': tensor(0.5327), 'leye_img_recon_loss': tensor(nan), 'leye_latent_loss': tensor(0.5331), 'reye_latent_loss': tensor(0.5411)}\n",
      "{'full_img_recon_loss': tensor(0.4384), 'leye_img_recon_loss': tensor(nan), 'leye_latent_loss': tensor(0.4164), 'reye_latent_loss': tensor(0.4431)}\n",
      "{'full_img_recon_loss': tensor(0.4197), 'leye_img_recon_loss': tensor(nan), 'leye_latent_loss': tensor(0.3419), 'reye_latent_loss': tensor(0.3619)}\n",
      "{'full_img_recon_loss': tensor(0.4127), 'leye_img_recon_loss': tensor(nan), 'leye_latent_loss': tensor(0.2813), 'reye_latent_loss': tensor(0.2969)}\n",
      "{'full_img_recon_loss': tensor(0.4041), 'leye_img_recon_loss': tensor(nan), 'leye_latent_loss': tensor(0.2267), 'reye_latent_loss': tensor(0.2349)}\n",
      "{'full_img_recon_loss': tensor(0.3843), 'leye_img_recon_loss': tensor(nan), 'leye_latent_loss': tensor(0.2107), 'reye_latent_loss': tensor(0.2146)}\n",
      "{'full_img_recon_loss': tensor(0.4107), 'leye_img_recon_loss': tensor(nan), 'leye_latent_loss': tensor(0.1875), 'reye_latent_loss': tensor(0.2031)}\n",
      "{'full_img_recon_loss': tensor(0.3931), 'leye_img_recon_loss': tensor(nan), 'leye_latent_loss': tensor(0.1819), 'reye_latent_loss': tensor(0.1800)}\n",
      "{'full_img_recon_loss': tensor(0.3889), 'leye_img_recon_loss': tensor(nan), 'leye_latent_loss': tensor(0.1715), 'reye_latent_loss': tensor(0.1806)}\n",
      "{'full_img_recon_loss': tensor(0.3941), 'leye_img_recon_loss': tensor(nan), 'leye_latent_loss': tensor(0.1666), 'reye_latent_loss': tensor(0.1707)}\n",
      "{'full_img_recon_loss': tensor(0.4124), 'leye_img_recon_loss': tensor(nan), 'leye_latent_loss': tensor(0.1600), 'reye_latent_loss': tensor(0.1677)}\n",
      "{'full_img_recon_loss': tensor(0.3971), 'leye_img_recon_loss': tensor(nan), 'leye_latent_loss': tensor(0.1473), 'reye_latent_loss': tensor(0.1509)}\n",
      "{'full_img_recon_loss': tensor(0.3948), 'leye_img_recon_loss': tensor(nan), 'leye_latent_loss': tensor(0.1529), 'reye_latent_loss': tensor(0.1572)}\n",
      "{'full_img_recon_loss': tensor(0.3751), 'leye_img_recon_loss': tensor(nan), 'leye_latent_loss': tensor(0.1437), 'reye_latent_loss': tensor(0.1504)}\n",
      "{'full_img_recon_loss': tensor(0.3857), 'leye_img_recon_loss': tensor(nan), 'leye_latent_loss': tensor(0.1465), 'reye_latent_loss': tensor(0.1496)}\n",
      "{'full_img_recon_loss': tensor(0.3782), 'leye_img_recon_loss': tensor(nan), 'leye_latent_loss': tensor(0.1425), 'reye_latent_loss': tensor(0.1460)}\n",
      "{'full_img_recon_loss': tensor(0.3783), 'leye_img_recon_loss': tensor(nan), 'leye_latent_loss': tensor(0.1468), 'reye_latent_loss': tensor(0.1500)}\n",
      "{'full_img_recon_loss': tensor(0.3693), 'leye_img_recon_loss': tensor(nan), 'leye_latent_loss': tensor(0.1356), 'reye_latent_loss': tensor(0.1409)}\n",
      "{'full_img_recon_loss': tensor(0.3698), 'leye_img_recon_loss': tensor(nan), 'leye_latent_loss': tensor(0.1448), 'reye_latent_loss': tensor(0.1403)}\n",
      "{'full_img_recon_loss': tensor(0.3905), 'leye_img_recon_loss': tensor(nan), 'leye_latent_loss': tensor(0.1404), 'reye_latent_loss': tensor(0.1418)}\n",
      "{'full_img_recon_loss': tensor(0.3717), 'leye_img_recon_loss': tensor(nan), 'leye_latent_loss': tensor(0.1416), 'reye_latent_loss': tensor(0.1427)}\n",
      "{'full_img_recon_loss': tensor(0.3643), 'leye_img_recon_loss': tensor(nan), 'leye_latent_loss': tensor(0.1361), 'reye_latent_loss': tensor(0.1405)}\n",
      "{'full_img_recon_loss': tensor(0.3614), 'leye_img_recon_loss': tensor(nan), 'leye_latent_loss': tensor(0.1304), 'reye_latent_loss': tensor(0.1374)}\n",
      "{'full_img_recon_loss': tensor(0.3568), 'leye_img_recon_loss': tensor(nan), 'leye_latent_loss': tensor(0.1337), 'reye_latent_loss': tensor(0.1402)}\n",
      "{'full_img_recon_loss': tensor(0.3669), 'leye_img_recon_loss': tensor(nan), 'leye_latent_loss': tensor(0.1340), 'reye_latent_loss': tensor(0.1355)}\n",
      "{'full_img_recon_loss': tensor(0.3592), 'leye_img_recon_loss': tensor(nan), 'leye_latent_loss': tensor(0.1348), 'reye_latent_loss': tensor(0.1404)}\n",
      "{'full_img_recon_loss': tensor(0.3608), 'leye_img_recon_loss': tensor(nan), 'leye_latent_loss': tensor(0.1301), 'reye_latent_loss': tensor(0.1383)}\n",
      "{'full_img_recon_loss': tensor(0.3567), 'leye_img_recon_loss': tensor(nan), 'leye_latent_loss': tensor(0.1279), 'reye_latent_loss': tensor(0.1329)}\n",
      "{'full_img_recon_loss': tensor(0.3577), 'leye_img_recon_loss': tensor(nan), 'leye_latent_loss': tensor(0.1276), 'reye_latent_loss': tensor(0.1289)}\n",
      "{'full_img_recon_loss': tensor(0.3672), 'leye_img_recon_loss': tensor(nan), 'leye_latent_loss': tensor(0.1309), 'reye_latent_loss': tensor(0.1347)}\n",
      "{'full_img_recon_loss': tensor(0.3596), 'leye_img_recon_loss': tensor(nan), 'leye_latent_loss': tensor(0.1281), 'reye_latent_loss': tensor(0.1408)}\n",
      "{'full_img_recon_loss': tensor(0.3488), 'leye_img_recon_loss': tensor(nan), 'leye_latent_loss': tensor(0.1236), 'reye_latent_loss': tensor(0.1321)}\n",
      "{'full_img_recon_loss': tensor(0.3330), 'leye_img_recon_loss': tensor(nan), 'leye_latent_loss': tensor(0.1251), 'reye_latent_loss': tensor(0.1303)}\n",
      "{'full_img_recon_loss': tensor(0.3364), 'leye_img_recon_loss': tensor(nan), 'leye_latent_loss': tensor(0.1275), 'reye_latent_loss': tensor(0.1341)}\n",
      "{'full_img_recon_loss': tensor(0.3468), 'leye_img_recon_loss': tensor(nan), 'leye_latent_loss': tensor(0.1242), 'reye_latent_loss': tensor(0.1294)}\n",
      "{'full_img_recon_loss': tensor(0.3224), 'leye_img_recon_loss': tensor(nan), 'leye_latent_loss': tensor(0.1320), 'reye_latent_loss': tensor(0.1323)}\n",
      "{'full_img_recon_loss': tensor(0.3266), 'leye_img_recon_loss': tensor(nan), 'leye_latent_loss': tensor(0.1211), 'reye_latent_loss': tensor(0.1301)}\n",
      "{'full_img_recon_loss': tensor(0.3295), 'leye_img_recon_loss': tensor(nan), 'leye_latent_loss': tensor(0.1242), 'reye_latent_loss': tensor(0.1287)}\n",
      "{'full_img_recon_loss': tensor(0.3372), 'leye_img_recon_loss': tensor(nan), 'leye_latent_loss': tensor(0.1224), 'reye_latent_loss': tensor(0.1257)}\n",
      "{'full_img_recon_loss': tensor(0.3167), 'leye_img_recon_loss': tensor(nan), 'leye_latent_loss': tensor(0.1255), 'reye_latent_loss': tensor(0.1277)}\n",
      "{'full_img_recon_loss': tensor(0.3217), 'leye_img_recon_loss': tensor(nan), 'leye_latent_loss': tensor(0.1201), 'reye_latent_loss': tensor(0.1271)}\n",
      "{'full_img_recon_loss': tensor(0.3071), 'leye_img_recon_loss': tensor(nan), 'leye_latent_loss': tensor(0.1236), 'reye_latent_loss': tensor(0.1319)}\n",
      "{'full_img_recon_loss': tensor(0.3233), 'leye_img_recon_loss': tensor(nan), 'leye_latent_loss': tensor(0.1230), 'reye_latent_loss': tensor(0.1283)}\n",
      "{'full_img_recon_loss': tensor(0.3235), 'leye_img_recon_loss': tensor(nan), 'leye_latent_loss': tensor(0.1220), 'reye_latent_loss': tensor(0.1250)}\n",
      "{'full_img_recon_loss': tensor(0.3098), 'leye_img_recon_loss': tensor(nan), 'leye_latent_loss': tensor(0.1213), 'reye_latent_loss': tensor(0.1224)}\n",
      "{'full_img_recon_loss': tensor(0.3074), 'leye_img_recon_loss': tensor(nan), 'leye_latent_loss': tensor(0.1205), 'reye_latent_loss': tensor(0.1242)}\n",
      "{'full_img_recon_loss': tensor(0.3260), 'leye_img_recon_loss': tensor(nan), 'leye_latent_loss': tensor(0.1237), 'reye_latent_loss': tensor(0.1299)}\n",
      "{'full_img_recon_loss': tensor(0.3288), 'leye_img_recon_loss': tensor(nan), 'leye_latent_loss': tensor(0.1223), 'reye_latent_loss': tensor(0.1302)}\n",
      "{'full_img_recon_loss': tensor(0.3137), 'leye_img_recon_loss': tensor(nan), 'leye_latent_loss': tensor(0.1180), 'reye_latent_loss': tensor(0.1255)}\n",
      "{'full_img_recon_loss': tensor(0.3044), 'leye_img_recon_loss': tensor(nan), 'leye_latent_loss': tensor(0.1202), 'reye_latent_loss': tensor(0.1230)}\n",
      "{'full_img_recon_loss': tensor(0.3216), 'leye_img_recon_loss': tensor(nan), 'leye_latent_loss': tensor(0.1190), 'reye_latent_loss': tensor(0.1234)}\n",
      "{'full_img_recon_loss': tensor(0.3026), 'leye_img_recon_loss': tensor(nan), 'leye_latent_loss': tensor(0.1207), 'reye_latent_loss': tensor(0.1252)}\n",
      "{'full_img_recon_loss': tensor(0.3268), 'leye_img_recon_loss': tensor(nan), 'leye_latent_loss': tensor(0.1215), 'reye_latent_loss': tensor(0.1223)}\n",
      "{'full_img_recon_loss': tensor(0.3043), 'leye_img_recon_loss': tensor(nan), 'leye_latent_loss': tensor(0.1177), 'reye_latent_loss': tensor(0.1182)}\n",
      "{'full_img_recon_loss': tensor(0.3180), 'leye_img_recon_loss': tensor(nan), 'leye_latent_loss': tensor(0.1250), 'reye_latent_loss': tensor(0.1266)}\n"
     ]
    },
    {
     "name": "stdout",
     "output_type": "stream",
     "text": [
      "{'full_img_recon_loss': tensor(0.3146), 'leye_img_recon_loss': tensor(nan), 'leye_latent_loss': tensor(0.1193), 'reye_latent_loss': tensor(0.1201)}\n",
      "{'full_img_recon_loss': tensor(0.3128), 'leye_img_recon_loss': tensor(nan), 'leye_latent_loss': tensor(0.1203), 'reye_latent_loss': tensor(0.1196)}\n",
      "{'full_img_recon_loss': tensor(0.2978), 'leye_img_recon_loss': tensor(nan), 'leye_latent_loss': tensor(0.1155), 'reye_latent_loss': tensor(0.1206)}\n",
      "{'full_img_recon_loss': tensor(0.3215), 'leye_img_recon_loss': tensor(nan), 'leye_latent_loss': tensor(0.1216), 'reye_latent_loss': tensor(0.1225)}\n",
      "{'full_img_recon_loss': tensor(0.2877), 'leye_img_recon_loss': tensor(nan), 'leye_latent_loss': tensor(0.1206), 'reye_latent_loss': tensor(0.1173)}\n",
      "{'full_img_recon_loss': tensor(0.3032), 'leye_img_recon_loss': tensor(nan), 'leye_latent_loss': tensor(0.1143), 'reye_latent_loss': tensor(0.1235)}\n",
      "{'full_img_recon_loss': tensor(0.3120), 'leye_img_recon_loss': tensor(nan), 'leye_latent_loss': tensor(0.1165), 'reye_latent_loss': tensor(0.1169)}\n",
      "{'full_img_recon_loss': tensor(0.3258), 'leye_img_recon_loss': tensor(nan), 'leye_latent_loss': tensor(0.1204), 'reye_latent_loss': tensor(0.1238)}\n",
      "{'full_img_recon_loss': tensor(0.3199), 'leye_img_recon_loss': tensor(nan), 'leye_latent_loss': tensor(0.1182), 'reye_latent_loss': tensor(0.1204)}\n",
      "{'full_img_recon_loss': tensor(0.2976), 'leye_img_recon_loss': tensor(nan), 'leye_latent_loss': tensor(0.1157), 'reye_latent_loss': tensor(0.1196)}\n",
      "{'full_img_recon_loss': tensor(0.2940), 'leye_img_recon_loss': tensor(nan), 'leye_latent_loss': tensor(0.1168), 'reye_latent_loss': tensor(0.1200)}\n",
      "{'full_img_recon_loss': tensor(0.2997), 'leye_img_recon_loss': tensor(nan), 'leye_latent_loss': tensor(0.1128), 'reye_latent_loss': tensor(0.1183)}\n",
      "{'full_img_recon_loss': tensor(0.2979), 'leye_img_recon_loss': tensor(nan), 'leye_latent_loss': tensor(0.1170), 'reye_latent_loss': tensor(0.1188)}\n",
      "{'full_img_recon_loss': tensor(0.2912), 'leye_img_recon_loss': tensor(nan), 'leye_latent_loss': tensor(0.1159), 'reye_latent_loss': tensor(0.1172)}\n",
      "{'full_img_recon_loss': tensor(0.2896), 'leye_img_recon_loss': tensor(nan), 'leye_latent_loss': tensor(0.1162), 'reye_latent_loss': tensor(0.1184)}\n",
      "{'full_img_recon_loss': tensor(0.2866), 'leye_img_recon_loss': tensor(nan), 'leye_latent_loss': tensor(0.1153), 'reye_latent_loss': tensor(0.1160)}\n",
      "{'full_img_recon_loss': tensor(0.2982), 'leye_img_recon_loss': tensor(nan), 'leye_latent_loss': tensor(0.1201), 'reye_latent_loss': tensor(0.1259)}\n",
      "{'full_img_recon_loss': tensor(0.2833), 'leye_img_recon_loss': tensor(nan), 'leye_latent_loss': tensor(0.1135), 'reye_latent_loss': tensor(0.1181)}\n",
      "{'full_img_recon_loss': tensor(0.2908), 'leye_img_recon_loss': tensor(nan), 'leye_latent_loss': tensor(0.1149), 'reye_latent_loss': tensor(0.1150)}\n",
      "{'full_img_recon_loss': tensor(0.2798), 'leye_img_recon_loss': tensor(nan), 'leye_latent_loss': tensor(0.1102), 'reye_latent_loss': tensor(0.1158)}\n",
      "{'full_img_recon_loss': tensor(0.2997), 'leye_img_recon_loss': tensor(nan), 'leye_latent_loss': tensor(0.1162), 'reye_latent_loss': tensor(0.1192)}\n",
      "{'full_img_recon_loss': tensor(0.3070), 'leye_img_recon_loss': tensor(nan), 'leye_latent_loss': tensor(0.1164), 'reye_latent_loss': tensor(0.1120)}\n",
      "{'full_img_recon_loss': tensor(0.2965), 'leye_img_recon_loss': tensor(nan), 'leye_latent_loss': tensor(0.1148), 'reye_latent_loss': tensor(0.1182)}\n",
      "{'full_img_recon_loss': tensor(0.2830), 'leye_img_recon_loss': tensor(nan), 'leye_latent_loss': tensor(0.1148), 'reye_latent_loss': tensor(0.1217)}\n",
      "{'full_img_recon_loss': tensor(0.2964), 'leye_img_recon_loss': tensor(nan), 'leye_latent_loss': tensor(0.1166), 'reye_latent_loss': tensor(0.1214)}\n",
      "{'full_img_recon_loss': tensor(0.2871), 'leye_img_recon_loss': tensor(nan), 'leye_latent_loss': tensor(0.1149), 'reye_latent_loss': tensor(0.1173)}\n",
      "{'full_img_recon_loss': tensor(0.2787), 'leye_img_recon_loss': tensor(nan), 'leye_latent_loss': tensor(0.1152), 'reye_latent_loss': tensor(0.1191)}\n",
      "{'full_img_recon_loss': tensor(0.2786), 'leye_img_recon_loss': tensor(nan), 'leye_latent_loss': tensor(0.1133), 'reye_latent_loss': tensor(0.1179)}\n",
      "{'full_img_recon_loss': tensor(0.2936), 'leye_img_recon_loss': tensor(nan), 'leye_latent_loss': tensor(0.1193), 'reye_latent_loss': tensor(0.1178)}\n",
      "{'full_img_recon_loss': tensor(0.2746), 'leye_img_recon_loss': tensor(nan), 'leye_latent_loss': tensor(0.1138), 'reye_latent_loss': tensor(0.1167)}\n",
      "{'full_img_recon_loss': tensor(0.2802), 'leye_img_recon_loss': tensor(nan), 'leye_latent_loss': tensor(0.1135), 'reye_latent_loss': tensor(0.1174)}\n",
      "{'full_img_recon_loss': tensor(0.2870), 'leye_img_recon_loss': tensor(nan), 'leye_latent_loss': tensor(0.1103), 'reye_latent_loss': tensor(0.1185)}\n",
      "{'full_img_recon_loss': tensor(0.2663), 'leye_img_recon_loss': tensor(nan), 'leye_latent_loss': tensor(0.1145), 'reye_latent_loss': tensor(0.1152)}\n",
      "{'full_img_recon_loss': tensor(0.2912), 'leye_img_recon_loss': tensor(nan), 'leye_latent_loss': tensor(0.1165), 'reye_latent_loss': tensor(0.1152)}\n",
      "{'full_img_recon_loss': tensor(0.2747), 'leye_img_recon_loss': tensor(nan), 'leye_latent_loss': tensor(0.1165), 'reye_latent_loss': tensor(0.1164)}\n",
      "{'full_img_recon_loss': tensor(0.2835), 'leye_img_recon_loss': tensor(nan), 'leye_latent_loss': tensor(0.1141), 'reye_latent_loss': tensor(0.1145)}\n",
      "{'full_img_recon_loss': tensor(0.2711), 'leye_img_recon_loss': tensor(nan), 'leye_latent_loss': tensor(0.1140), 'reye_latent_loss': tensor(0.1150)}\n",
      "{'full_img_recon_loss': tensor(0.2898), 'leye_img_recon_loss': tensor(nan), 'leye_latent_loss': tensor(0.1119), 'reye_latent_loss': tensor(0.1131)}\n",
      "{'full_img_recon_loss': tensor(0.2853), 'leye_img_recon_loss': tensor(nan), 'leye_latent_loss': tensor(0.1120), 'reye_latent_loss': tensor(0.1136)}\n",
      "{'full_img_recon_loss': tensor(0.2763), 'leye_img_recon_loss': tensor(nan), 'leye_latent_loss': tensor(0.1130), 'reye_latent_loss': tensor(0.1128)}\n",
      "{'full_img_recon_loss': tensor(0.2854), 'leye_img_recon_loss': tensor(nan), 'leye_latent_loss': tensor(0.1137), 'reye_latent_loss': tensor(0.1167)}\n",
      "{'full_img_recon_loss': tensor(0.2677), 'leye_img_recon_loss': tensor(nan), 'leye_latent_loss': tensor(0.1140), 'reye_latent_loss': tensor(0.1151)}\n",
      "{'full_img_recon_loss': tensor(0.2774), 'leye_img_recon_loss': tensor(nan), 'leye_latent_loss': tensor(0.1126), 'reye_latent_loss': tensor(0.1143)}\n",
      "{'full_img_recon_loss': tensor(0.2809), 'leye_img_recon_loss': tensor(nan), 'leye_latent_loss': tensor(0.1125), 'reye_latent_loss': tensor(0.1126)}\n",
      "{'full_img_recon_loss': tensor(0.2763), 'leye_img_recon_loss': tensor(nan), 'leye_latent_loss': tensor(0.1108), 'reye_latent_loss': tensor(0.1163)}\n",
      "{'full_img_recon_loss': tensor(0.2763), 'leye_img_recon_loss': tensor(nan), 'leye_latent_loss': tensor(0.1131), 'reye_latent_loss': tensor(0.1164)}\n",
      "{'full_img_recon_loss': tensor(0.2797), 'leye_img_recon_loss': tensor(nan), 'leye_latent_loss': tensor(0.1122), 'reye_latent_loss': tensor(0.1133)}\n",
      "{'full_img_recon_loss': tensor(0.2679), 'leye_img_recon_loss': tensor(nan), 'leye_latent_loss': tensor(0.1130), 'reye_latent_loss': tensor(0.1130)}\n",
      "{'full_img_recon_loss': tensor(0.2753), 'leye_img_recon_loss': tensor(nan), 'leye_latent_loss': tensor(0.1144), 'reye_latent_loss': tensor(0.1153)}\n",
      "{'full_img_recon_loss': tensor(0.2747), 'leye_img_recon_loss': tensor(nan), 'leye_latent_loss': tensor(0.1109), 'reye_latent_loss': tensor(0.1123)}\n",
      "{'full_img_recon_loss': tensor(0.2683), 'leye_img_recon_loss': tensor(nan), 'leye_latent_loss': tensor(0.1120), 'reye_latent_loss': tensor(0.1126)}\n",
      "{'full_img_recon_loss': tensor(0.2825), 'leye_img_recon_loss': tensor(nan), 'leye_latent_loss': tensor(0.1108), 'reye_latent_loss': tensor(0.1111)}\n",
      "{'full_img_recon_loss': tensor(0.2700), 'leye_img_recon_loss': tensor(nan), 'leye_latent_loss': tensor(0.1080), 'reye_latent_loss': tensor(0.1094)}\n",
      "{'full_img_recon_loss': tensor(0.2780), 'leye_img_recon_loss': tensor(nan), 'leye_latent_loss': tensor(0.1155), 'reye_latent_loss': tensor(0.1166)}\n",
      "{'full_img_recon_loss': tensor(0.2621), 'leye_img_recon_loss': tensor(nan), 'leye_latent_loss': tensor(0.1115), 'reye_latent_loss': tensor(0.1090)}\n",
      "{'full_img_recon_loss': tensor(0.2747), 'leye_img_recon_loss': tensor(nan), 'leye_latent_loss': tensor(0.1121), 'reye_latent_loss': tensor(0.1141)}\n"
     ]
    },
    {
     "name": "stdout",
     "output_type": "stream",
     "text": [
      "{'full_img_recon_loss': tensor(0.2632), 'leye_img_recon_loss': tensor(nan), 'leye_latent_loss': tensor(0.1102), 'reye_latent_loss': tensor(0.1134)}\n",
      "{'full_img_recon_loss': tensor(0.2638), 'leye_img_recon_loss': tensor(nan), 'leye_latent_loss': tensor(0.1129), 'reye_latent_loss': tensor(0.1154)}\n",
      "{'full_img_recon_loss': tensor(0.2621), 'leye_img_recon_loss': tensor(nan), 'leye_latent_loss': tensor(0.1111), 'reye_latent_loss': tensor(0.1093)}\n",
      "{'full_img_recon_loss': tensor(0.2634), 'leye_img_recon_loss': tensor(nan), 'leye_latent_loss': tensor(0.1112), 'reye_latent_loss': tensor(0.1119)}\n",
      "{'full_img_recon_loss': tensor(0.2598), 'leye_img_recon_loss': tensor(nan), 'leye_latent_loss': tensor(0.1102), 'reye_latent_loss': tensor(0.1081)}\n",
      "{'full_img_recon_loss': tensor(0.2612), 'leye_img_recon_loss': tensor(nan), 'leye_latent_loss': tensor(0.1102), 'reye_latent_loss': tensor(0.1090)}\n",
      "{'full_img_recon_loss': tensor(0.2648), 'leye_img_recon_loss': tensor(nan), 'leye_latent_loss': tensor(0.1097), 'reye_latent_loss': tensor(0.1087)}\n",
      "{'full_img_recon_loss': tensor(0.2667), 'leye_img_recon_loss': tensor(nan), 'leye_latent_loss': tensor(0.1096), 'reye_latent_loss': tensor(0.1105)}\n",
      "{'full_img_recon_loss': tensor(0.2689), 'leye_img_recon_loss': tensor(nan), 'leye_latent_loss': tensor(0.1133), 'reye_latent_loss': tensor(0.1128)}\n",
      "{'full_img_recon_loss': tensor(0.2634), 'leye_img_recon_loss': tensor(nan), 'leye_latent_loss': tensor(0.1093), 'reye_latent_loss': tensor(0.1120)}\n",
      "{'full_img_recon_loss': tensor(0.2691), 'leye_img_recon_loss': tensor(nan), 'leye_latent_loss': tensor(0.1103), 'reye_latent_loss': tensor(0.1125)}\n",
      "{'full_img_recon_loss': tensor(0.2675), 'leye_img_recon_loss': tensor(nan), 'leye_latent_loss': tensor(0.1096), 'reye_latent_loss': tensor(0.1116)}\n",
      "{'full_img_recon_loss': tensor(0.2706), 'leye_img_recon_loss': tensor(nan), 'leye_latent_loss': tensor(0.1123), 'reye_latent_loss': tensor(0.1146)}\n",
      "{'full_img_recon_loss': tensor(0.2689), 'leye_img_recon_loss': tensor(nan), 'leye_latent_loss': tensor(0.1103), 'reye_latent_loss': tensor(0.1102)}\n",
      "{'full_img_recon_loss': tensor(0.2607), 'leye_img_recon_loss': tensor(nan), 'leye_latent_loss': tensor(0.1104), 'reye_latent_loss': tensor(0.1113)}\n",
      "{'full_img_recon_loss': tensor(0.2647), 'leye_img_recon_loss': tensor(nan), 'leye_latent_loss': tensor(0.1096), 'reye_latent_loss': tensor(0.1120)}\n",
      "{'full_img_recon_loss': tensor(0.2539), 'leye_img_recon_loss': tensor(nan), 'leye_latent_loss': tensor(0.1096), 'reye_latent_loss': tensor(0.1136)}\n",
      "{'full_img_recon_loss': tensor(0.2607), 'leye_img_recon_loss': tensor(nan), 'leye_latent_loss': tensor(0.1083), 'reye_latent_loss': tensor(0.1126)}\n",
      "{'full_img_recon_loss': tensor(0.2677), 'leye_img_recon_loss': tensor(nan), 'leye_latent_loss': tensor(0.1089), 'reye_latent_loss': tensor(0.1121)}\n",
      "{'full_img_recon_loss': tensor(0.2743), 'leye_img_recon_loss': tensor(nan), 'leye_latent_loss': tensor(0.1126), 'reye_latent_loss': tensor(0.1148)}\n",
      "{'full_img_recon_loss': tensor(0.2718), 'leye_img_recon_loss': tensor(nan), 'leye_latent_loss': tensor(0.1102), 'reye_latent_loss': tensor(0.1110)}\n",
      "{'full_img_recon_loss': tensor(0.2607), 'leye_img_recon_loss': tensor(nan), 'leye_latent_loss': tensor(0.1090), 'reye_latent_loss': tensor(0.1106)}\n",
      "{'full_img_recon_loss': tensor(0.2429), 'leye_img_recon_loss': tensor(nan), 'leye_latent_loss': tensor(0.1083), 'reye_latent_loss': tensor(0.1086)}\n",
      "{'full_img_recon_loss': tensor(0.2544), 'leye_img_recon_loss': tensor(nan), 'leye_latent_loss': tensor(0.1120), 'reye_latent_loss': tensor(0.1124)}\n",
      "{'full_img_recon_loss': tensor(0.2527), 'leye_img_recon_loss': tensor(nan), 'leye_latent_loss': tensor(0.1111), 'reye_latent_loss': tensor(0.1115)}\n",
      "{'full_img_recon_loss': tensor(0.2719), 'leye_img_recon_loss': tensor(nan), 'leye_latent_loss': tensor(0.1096), 'reye_latent_loss': tensor(0.1126)}\n",
      "{'full_img_recon_loss': tensor(0.2580), 'leye_img_recon_loss': tensor(nan), 'leye_latent_loss': tensor(0.1088), 'reye_latent_loss': tensor(0.1134)}\n",
      "{'full_img_recon_loss': tensor(0.2799), 'leye_img_recon_loss': tensor(nan), 'leye_latent_loss': tensor(0.1129), 'reye_latent_loss': tensor(0.1146)}\n",
      "{'full_img_recon_loss': tensor(0.2588), 'leye_img_recon_loss': tensor(nan), 'leye_latent_loss': tensor(0.1080), 'reye_latent_loss': tensor(0.1074)}\n",
      "{'full_img_recon_loss': tensor(0.2661), 'leye_img_recon_loss': tensor(nan), 'leye_latent_loss': tensor(0.1086), 'reye_latent_loss': tensor(0.1119)}\n",
      "{'full_img_recon_loss': tensor(0.2580), 'leye_img_recon_loss': tensor(nan), 'leye_latent_loss': tensor(0.1063), 'reye_latent_loss': tensor(0.1098)}\n",
      "{'full_img_recon_loss': tensor(0.2583), 'leye_img_recon_loss': tensor(nan), 'leye_latent_loss': tensor(0.1087), 'reye_latent_loss': tensor(0.1114)}\n",
      "{'full_img_recon_loss': tensor(0.2513), 'leye_img_recon_loss': tensor(nan), 'leye_latent_loss': tensor(0.1080), 'reye_latent_loss': tensor(0.1114)}\n",
      "{'full_img_recon_loss': tensor(0.2569), 'leye_img_recon_loss': tensor(nan), 'leye_latent_loss': tensor(0.1100), 'reye_latent_loss': tensor(0.1125)}\n",
      "{'full_img_recon_loss': tensor(0.2449), 'leye_img_recon_loss': tensor(nan), 'leye_latent_loss': tensor(0.1080), 'reye_latent_loss': tensor(0.1110)}\n",
      "{'full_img_recon_loss': tensor(0.2535), 'leye_img_recon_loss': tensor(nan), 'leye_latent_loss': tensor(0.1048), 'reye_latent_loss': tensor(0.1097)}\n",
      "{'full_img_recon_loss': tensor(0.2615), 'leye_img_recon_loss': tensor(nan), 'leye_latent_loss': tensor(0.1100), 'reye_latent_loss': tensor(0.1138)}\n",
      "{'full_img_recon_loss': tensor(0.2548), 'leye_img_recon_loss': tensor(nan), 'leye_latent_loss': tensor(0.1097), 'reye_latent_loss': tensor(0.1148)}\n",
      "{'full_img_recon_loss': tensor(0.2755), 'leye_img_recon_loss': tensor(nan), 'leye_latent_loss': tensor(0.1066), 'reye_latent_loss': tensor(0.1090)}\n",
      "{'full_img_recon_loss': tensor(0.2585), 'leye_img_recon_loss': tensor(nan), 'leye_latent_loss': tensor(0.1106), 'reye_latent_loss': tensor(0.1117)}\n",
      "{'full_img_recon_loss': tensor(0.2498), 'leye_img_recon_loss': tensor(nan), 'leye_latent_loss': tensor(0.1091), 'reye_latent_loss': tensor(0.1105)}\n",
      "{'full_img_recon_loss': tensor(0.2435), 'leye_img_recon_loss': tensor(nan), 'leye_latent_loss': tensor(0.1084), 'reye_latent_loss': tensor(0.1100)}\n",
      "{'full_img_recon_loss': tensor(0.2538), 'leye_img_recon_loss': tensor(nan), 'leye_latent_loss': tensor(0.1067), 'reye_latent_loss': tensor(0.1074)}\n",
      "{'full_img_recon_loss': tensor(0.2521), 'leye_img_recon_loss': tensor(nan), 'leye_latent_loss': tensor(0.1080), 'reye_latent_loss': tensor(0.1104)}\n",
      "{'full_img_recon_loss': tensor(0.2636), 'leye_img_recon_loss': tensor(nan), 'leye_latent_loss': tensor(0.1069), 'reye_latent_loss': tensor(0.1070)}\n",
      "{'full_img_recon_loss': tensor(0.2573), 'leye_img_recon_loss': tensor(nan), 'leye_latent_loss': tensor(0.1072), 'reye_latent_loss': tensor(0.1100)}\n"
     ]
    }
   ],
   "source": [
    "for i in range(100000):\n",
    "    leye_img,leye_img_name = train_loader_leye.next()\n",
    "    full_img = train_loader_full.get(leye_img_name)\n",
    "    reye_img = train_loader_reye.get(leye_img_name)\n",
    "\n",
    "#     full_img,full_img_name = train_loader_full.next()\n",
    "#     leye_img = train_loader_leye.get(full_img_name)\n",
    "#     reye_img = train_loader_reye.get(full_img_name) \n",
    "    if type(full_img) == type(None) or type(reye_img) == type(None):\n",
    "        continue\n",
    "\n",
    "    leye_img = leye_img.to(device)\n",
    "    reye_img = reye_img.to(device)\n",
    "    full_img = full_img.to(device)\n",
    "\n",
    "    optimizer_full.zero_grad()\n",
    "    optimizer_leye.zero_grad()\n",
    "    optimizer_reye.zero_grad()   \n",
    "\n",
    "    full_recon, full_result_l, full_result_r = model_full(full_img)\n",
    "    leye_recon, lresult = model_leye(leye_img)\n",
    "    reye_recon, rresult = model_reye(reye_img)\n",
    "\n",
    "    full_img_recon_loss = L1_loss(full_recon,full_img)\n",
    "    leye_img_recon_loss = L1_loss(leye_recon,leye_img)\n",
    "    reye_img_recon_loss = L1_loss(reye_recon,reye_img)\n",
    "    recon_loss = full_img_recon_loss+leye_img_recon_loss+reye_img_recon_loss\n",
    "\n",
    "    leye_latent_loss = L1_loss(full_result_l,lresult)\n",
    "    reye_latent_loss = L1_loss(full_result_r,rresult)\n",
    "    latent_loss = leye_latent_loss+reye_latent_loss\n",
    "\n",
    "    loss = recon_loss+latent_loss\n",
    "    loss.backward()\n",
    "\n",
    "    optimizer_full.step()\n",
    "    optimizer_leye.step()\n",
    "    optimizer_reye.step()\n",
    "\n",
    "    train_hist.add_params([full_img_recon_loss,leye_img_recon_loss,reye_img_recon_loss,\n",
    "                           leye_latent_loss,reye_latent_loss])\n",
    "\n",
    "#     except:\n",
    "#         continue\n",
    "    \n",
    "    if count%100==0:\n",
    "        losses = train_hist.check_current_avg()\n",
    "        print(losses)\n",
    "#         print('recon loss = %.5f, latent_loss = %.5f'%(recon_loss,latent_loss))\n",
    "    if count%1000==0:\n",
    "        save_models(all_models,model_folder)\n",
    "    if count%10000==0:\n",
    "        new_dir = os.path.join(model_folder,str(count))\n",
    "        if not os.path.isdir(new_dir):\n",
    "            os.makedirs(new_dir)\n",
    "        save_models(all_models,new_dir)\n",
    "    count+=1\n",
    "    "
   ]
  },
  {
   "cell_type": "code",
   "execution_count": null,
   "metadata": {},
   "outputs": [],
   "source": [
    "# save_models(all_models,'model')"
   ]
  }
 ],
 "metadata": {
  "kernelspec": {
   "display_name": "Python 3",
   "language": "python",
   "name": "python3"
  },
  "language_info": {
   "codemirror_mode": {
    "name": "ipython",
    "version": 3
   },
   "file_extension": ".py",
   "mimetype": "text/x-python",
   "name": "python",
   "nbconvert_exporter": "python",
   "pygments_lexer": "ipython3",
   "version": "3.6.8"
  }
 },
 "nbformat": 4,
 "nbformat_minor": 2
}
